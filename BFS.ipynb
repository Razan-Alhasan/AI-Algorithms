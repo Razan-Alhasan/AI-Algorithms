{
 "cells": [
  {
   "attachments": {},
   "cell_type": "markdown",
   "metadata": {},
   "source": [
    "BFS : Bredth First Search"
   ]
  },
  {
   "cell_type": "code",
   "execution_count": 18,
   "metadata": {},
   "outputs": [
    {
     "name": "stdout",
     "output_type": "stream",
     "text": [
      "path: [1, 2, 5] "
     ]
    }
   ],
   "source": [
    "g = {1:[2,3], 2:[5,6], 3:[7,8], 5:[9], 6:[10], 7:[10], 8:[9,4], 9:[12]}\n",
    "q = [[1]]\n",
    "visited, temp = [], []\n",
    "goal = 5\n",
    "while q:\n",
    "    node = q.pop(0)\n",
    "    v = node[-1]\n",
    "    if v in visited :\n",
    "        continue\n",
    "    visited.append(v)\n",
    "    if goal == v:\n",
    "        print(\"path:\", node, end = \" \")\n",
    "        break\n",
    "    for i in g.get(v,[]):\n",
    "        temp = list(node)\n",
    "        temp.append(i)\n",
    "        q.append(temp)\n"
   ]
  }
 ],
 "metadata": {
  "kernelspec": {
   "display_name": "Python 3",
   "language": "python",
   "name": "python3"
  },
  "language_info": {
   "codemirror_mode": {
    "name": "ipython",
    "version": 3
   },
   "file_extension": ".py",
   "mimetype": "text/x-python",
   "name": "python",
   "nbconvert_exporter": "python",
   "pygments_lexer": "ipython3",
   "version": "3.8.5"
  },
  "orig_nbformat": 4
 },
 "nbformat": 4,
 "nbformat_minor": 2
}

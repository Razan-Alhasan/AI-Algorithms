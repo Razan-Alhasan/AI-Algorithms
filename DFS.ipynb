{
 "cells": [
  {
   "attachments": {},
   "cell_type": "markdown",
   "metadata": {},
   "source": [
    "DFS : depth first search"
   ]
  },
  {
   "cell_type": "code",
   "execution_count": 5,
   "metadata": {},
   "outputs": [
    {
     "name": "stdout",
     "output_type": "stream",
     "text": [
      "1 2 5 9 12 6 10 \n",
      "path: [1, 2, 6, 10]\n"
     ]
    }
   ],
   "source": [
    "def dfs():\n",
    "    s,temp = [1],[]\n",
    "    goal = 10\n",
    "    while s:\n",
    "        v = s.pop()\n",
    "        if v in visited:\n",
    "            continue\n",
    "        visited.append(v)\n",
    "        print(v, end = ' ')\n",
    "        if v == goal:\n",
    "            path.insert(0,goal)\n",
    "            while goal != 1:\n",
    "                goal = chpg[goal]\n",
    "                path.insert(0,goal)\n",
    "            break\n",
    "        for i in g.get(v,[]):\n",
    "            temp.append(i)\n",
    "            chpg[i]=v\n",
    "        while temp:\n",
    "            s.append(temp.pop())\n",
    "g = {1:[2,3], 2:[5,6], 3:[7,8], 4:[], 5:[9], 6:[10], 7:[10], 8:[9,4], 9:[12], 12:[]}\n",
    "path,visited = [],[]\n",
    "chpg={1:None}\n",
    "\n",
    "dfs()\n",
    "print (\"\\npath:\", path)\n"
   ]
  }
 ],
 "metadata": {
  "kernelspec": {
   "display_name": "Python 3",
   "language": "python",
   "name": "python3"
  },
  "language_info": {
   "codemirror_mode": {
    "name": "ipython",
    "version": 3
   },
   "file_extension": ".py",
   "mimetype": "text/x-python",
   "name": "python",
   "nbconvert_exporter": "python",
   "pygments_lexer": "ipython3",
   "version": "3.8.5"
  },
  "orig_nbformat": 4
 },
 "nbformat": 4,
 "nbformat_minor": 2
}
